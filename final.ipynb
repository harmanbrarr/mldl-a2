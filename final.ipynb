{
 "cells": [
  {
   "cell_type": "markdown",
   "metadata": {},
   "source": [
    "# **Assignment 2**\n",
    "### By: Harman B, Antra N, Ederuvie U, Daniel S, Rahul J"
   ]
  },
  {
   "cell_type": "markdown",
   "metadata": {},
   "source": [
    "## What’s the Problem?\n",
    "\n",
    "In university classrooms, teachers want to know how engaged students are because engaged students learn better. But the current ways of measuring engagement (like surveys) are:"
   ]
  },
  {
   "cell_type": "markdown",
   "metadata": {},
   "source": [
    "1. Subjective: Based on opinions, not facts.\n",
    "2. Infrequent: Done only occasionally, not during the class.\n",
    "\n",
    "We need a better, real-time way to measure engagement."
   ]
  },
  {
   "cell_type": "markdown",
   "metadata": {},
   "source": [
    "Machine learning can analyze data from devices (biosensors) that measure:\n",
    "\n",
    "1. Heart rate: Fast heart rate = stress; Slow heart rate = calm.\n",
    "2. EEG (brain waves): High activity = focused mind.\n",
    "3. Skin conductance: Sweaty skin = emotional or stressed.\n",
    "4. Facial expressions: Smiling = happy; Frowning = upset.\n",
    "\n",
    "This data can help predict how engaged a student is right now.\n"
   ]
  },
  {
   "cell_type": "markdown",
   "metadata": {},
   "source": [
    "## What’s the Goal?\n",
    "The goal is to build a machine learning model that takes these physiological signals as inputs and outputs one of three engagement levels:\n",
    "\n",
    "1. Highly Engaged: Deep focus and positive emotions.\n",
    "2. Moderately Engaged: Some focus but not fully immersed.\n",
    "3. Disengaged: Bored, stressed, or distracted."
   ]
  },
  {
   "cell_type": "markdown",
   "metadata": {},
   "source": [
    "## Code"
   ]
  },
  {
   "cell_type": "markdown",
   "metadata": {},
   "source": [
    "## EDA"
   ]
  },
  {
   "cell_type": "code",
   "execution_count": 1,
   "metadata": {},
   "outputs": [
    {
     "data": {
      "text/html": [
       "<div>\n",
       "<style scoped>\n",
       "    .dataframe tbody tr th:only-of-type {\n",
       "        vertical-align: middle;\n",
       "    }\n",
       "\n",
       "    .dataframe tbody tr th {\n",
       "        vertical-align: top;\n",
       "    }\n",
       "\n",
       "    .dataframe thead th {\n",
       "        text-align: right;\n",
       "    }\n",
       "</style>\n",
       "<table border=\"1\" class=\"dataframe\">\n",
       "  <thead>\n",
       "    <tr style=\"text-align: right;\">\n",
       "      <th></th>\n",
       "      <th>HeartRate</th>\n",
       "      <th>SkinConductance</th>\n",
       "      <th>EEG</th>\n",
       "      <th>Temperature</th>\n",
       "      <th>PupilDiameter</th>\n",
       "      <th>SmileIntensity</th>\n",
       "      <th>FrownIntensity</th>\n",
       "      <th>CortisolLevel</th>\n",
       "      <th>ActivityLevel</th>\n",
       "      <th>AmbientNoiseLevel</th>\n",
       "      <th>LightingLevel</th>\n",
       "      <th>EmotionalState</th>\n",
       "      <th>CognitiveState</th>\n",
       "      <th>EngagementLevel</th>\n",
       "    </tr>\n",
       "  </thead>\n",
       "  <tbody>\n",
       "    <tr>\n",
       "      <th>0</th>\n",
       "      <td>61</td>\n",
       "      <td>8.937204</td>\n",
       "      <td>11.794946</td>\n",
       "      <td>36.501723</td>\n",
       "      <td>3.330181</td>\n",
       "      <td>0.689238</td>\n",
       "      <td>0.189024</td>\n",
       "      <td>0.603035</td>\n",
       "      <td>136</td>\n",
       "      <td>59</td>\n",
       "      <td>394</td>\n",
       "      <td>engaged</td>\n",
       "      <td>distracted</td>\n",
       "      <td>3</td>\n",
       "    </tr>\n",
       "    <tr>\n",
       "      <th>1</th>\n",
       "      <td>60</td>\n",
       "      <td>12.635397</td>\n",
       "      <td>19.151412</td>\n",
       "      <td>36.618910</td>\n",
       "      <td>3.428995</td>\n",
       "      <td>0.561056</td>\n",
       "      <td>0.091367</td>\n",
       "      <td>0.566671</td>\n",
       "      <td>155</td>\n",
       "      <td>39</td>\n",
       "      <td>479</td>\n",
       "      <td>engaged</td>\n",
       "      <td>distracted</td>\n",
       "      <td>1</td>\n",
       "    </tr>\n",
       "    <tr>\n",
       "      <th>2</th>\n",
       "      <td>81</td>\n",
       "      <td>3.660028</td>\n",
       "      <td>6.226098</td>\n",
       "      <td>36.176898</td>\n",
       "      <td>2.819286</td>\n",
       "      <td>0.417951</td>\n",
       "      <td>0.227355</td>\n",
       "      <td>1.422475</td>\n",
       "      <td>55</td>\n",
       "      <td>30</td>\n",
       "      <td>832</td>\n",
       "      <td>partially engaged</td>\n",
       "      <td>focused</td>\n",
       "      <td>3</td>\n",
       "    </tr>\n",
       "    <tr>\n",
       "      <th>3</th>\n",
       "      <td>119</td>\n",
       "      <td>0.563070</td>\n",
       "      <td>4.542968</td>\n",
       "      <td>37.205293</td>\n",
       "      <td>2.192961</td>\n",
       "      <td>0.140186</td>\n",
       "      <td>0.502965</td>\n",
       "      <td>1.669045</td>\n",
       "      <td>39</td>\n",
       "      <td>40</td>\n",
       "      <td>602</td>\n",
       "      <td>disengaged</td>\n",
       "      <td>focused</td>\n",
       "      <td>3</td>\n",
       "    </tr>\n",
       "    <tr>\n",
       "      <th>4</th>\n",
       "      <td>118</td>\n",
       "      <td>0.477378</td>\n",
       "      <td>0.996209</td>\n",
       "      <td>37.248118</td>\n",
       "      <td>2.450139</td>\n",
       "      <td>0.064471</td>\n",
       "      <td>0.695604</td>\n",
       "      <td>1.854076</td>\n",
       "      <td>10</td>\n",
       "      <td>42</td>\n",
       "      <td>908</td>\n",
       "      <td>disengaged</td>\n",
       "      <td>focused</td>\n",
       "      <td>3</td>\n",
       "    </tr>\n",
       "  </tbody>\n",
       "</table>\n",
       "</div>"
      ],
      "text/plain": [
       "   HeartRate  SkinConductance        EEG  Temperature  PupilDiameter  \\\n",
       "0         61         8.937204  11.794946    36.501723       3.330181   \n",
       "1         60        12.635397  19.151412    36.618910       3.428995   \n",
       "2         81         3.660028   6.226098    36.176898       2.819286   \n",
       "3        119         0.563070   4.542968    37.205293       2.192961   \n",
       "4        118         0.477378   0.996209    37.248118       2.450139   \n",
       "\n",
       "   SmileIntensity  FrownIntensity  CortisolLevel  ActivityLevel  \\\n",
       "0        0.689238        0.189024       0.603035            136   \n",
       "1        0.561056        0.091367       0.566671            155   \n",
       "2        0.417951        0.227355       1.422475             55   \n",
       "3        0.140186        0.502965       1.669045             39   \n",
       "4        0.064471        0.695604       1.854076             10   \n",
       "\n",
       "   AmbientNoiseLevel  LightingLevel     EmotionalState CognitiveState  \\\n",
       "0                 59            394            engaged     distracted   \n",
       "1                 39            479            engaged     distracted   \n",
       "2                 30            832  partially engaged        focused   \n",
       "3                 40            602         disengaged        focused   \n",
       "4                 42            908         disengaged        focused   \n",
       "\n",
       "   EngagementLevel  \n",
       "0                3  \n",
       "1                1  \n",
       "2                3  \n",
       "3                3  \n",
       "4                3  "
      ]
     },
     "execution_count": 1,
     "metadata": {},
     "output_type": "execute_result"
    }
   ],
   "source": [
    "import pandas as pd\n",
    "data = pd.read_csv('emo.csv')\n",
    "data.head()"
   ]
  },
  {
   "cell_type": "code",
   "execution_count": 2,
   "metadata": {},
   "outputs": [
    {
     "name": "stdout",
     "output_type": "stream",
     "text": [
      "HeartRate            0\n",
      "SkinConductance      0\n",
      "EEG                  0\n",
      "Temperature          0\n",
      "PupilDiameter        0\n",
      "SmileIntensity       0\n",
      "FrownIntensity       0\n",
      "CortisolLevel        0\n",
      "ActivityLevel        0\n",
      "AmbientNoiseLevel    0\n",
      "LightingLevel        0\n",
      "EmotionalState       0\n",
      "CognitiveState       0\n",
      "EngagementLevel      0\n",
      "dtype: int64\n"
     ]
    }
   ],
   "source": [
    "# Check if there are any missing values\n",
    "print(data.isnull().sum())"
   ]
  },
  {
   "cell_type": "code",
   "execution_count": 3,
   "metadata": {},
   "outputs": [
    {
     "data": {
      "text/plain": [
       "HeartRate              int64\n",
       "SkinConductance      float64\n",
       "EEG                  float64\n",
       "Temperature          float64\n",
       "PupilDiameter        float64\n",
       "SmileIntensity       float64\n",
       "FrownIntensity       float64\n",
       "CortisolLevel        float64\n",
       "ActivityLevel          int64\n",
       "AmbientNoiseLevel      int64\n",
       "LightingLevel          int64\n",
       "EmotionalState        object\n",
       "CognitiveState        object\n",
       "EngagementLevel        int64\n",
       "dtype: object"
      ]
     },
     "execution_count": 3,
     "metadata": {},
     "output_type": "execute_result"
    }
   ],
   "source": [
    "# Check how many and which columns are categorical \n",
    "data.dtypes"
   ]
  },
  {
   "cell_type": "code",
   "execution_count": 4,
   "metadata": {},
   "outputs": [
    {
     "data": {
      "text/plain": [
       "array(['distracted', 'focused'], dtype=object)"
      ]
     },
     "execution_count": 4,
     "metadata": {},
     "output_type": "execute_result"
    }
   ],
   "source": [
    "# Check the unique variables in the Cognitive State column\n",
    "data['CognitiveState'].unique()"
   ]
  },
  {
   "cell_type": "code",
   "execution_count": 5,
   "metadata": {},
   "outputs": [
    {
     "data": {
      "text/plain": [
       "array(['engaged', 'partially engaged', 'disengaged'], dtype=object)"
      ]
     },
     "execution_count": 5,
     "metadata": {},
     "output_type": "execute_result"
    }
   ],
   "source": [
    "# Check the unique variables in the Emotional State column\n",
    "data['EmotionalState'].unique()"
   ]
  },
  {
   "cell_type": "markdown",
   "metadata": {},
   "source": [
    "## Data Preprocessing and more EDA"
   ]
  },
  {
   "cell_type": "code",
   "execution_count": 6,
   "metadata": {},
   "outputs": [
    {
     "data": {
      "text/html": [
       "<div>\n",
       "<style scoped>\n",
       "    .dataframe tbody tr th:only-of-type {\n",
       "        vertical-align: middle;\n",
       "    }\n",
       "\n",
       "    .dataframe tbody tr th {\n",
       "        vertical-align: top;\n",
       "    }\n",
       "\n",
       "    .dataframe thead th {\n",
       "        text-align: right;\n",
       "    }\n",
       "</style>\n",
       "<table border=\"1\" class=\"dataframe\">\n",
       "  <thead>\n",
       "    <tr style=\"text-align: right;\">\n",
       "      <th></th>\n",
       "      <th>HeartRate</th>\n",
       "      <th>SkinConductance</th>\n",
       "      <th>EEG</th>\n",
       "      <th>Temperature</th>\n",
       "      <th>PupilDiameter</th>\n",
       "      <th>SmileIntensity</th>\n",
       "      <th>FrownIntensity</th>\n",
       "      <th>CortisolLevel</th>\n",
       "      <th>ActivityLevel</th>\n",
       "      <th>AmbientNoiseLevel</th>\n",
       "      <th>LightingLevel</th>\n",
       "      <th>EngagementLevel</th>\n",
       "      <th>EmotionalState_disengaged</th>\n",
       "      <th>EmotionalState_engaged</th>\n",
       "      <th>EmotionalState_partially engaged</th>\n",
       "      <th>CognitiveState_distracted</th>\n",
       "      <th>CognitiveState_focused</th>\n",
       "    </tr>\n",
       "  </thead>\n",
       "  <tbody>\n",
       "    <tr>\n",
       "      <th>0</th>\n",
       "      <td>61</td>\n",
       "      <td>8.937204</td>\n",
       "      <td>11.794946</td>\n",
       "      <td>36.501723</td>\n",
       "      <td>3.330181</td>\n",
       "      <td>0.689238</td>\n",
       "      <td>0.189024</td>\n",
       "      <td>0.603035</td>\n",
       "      <td>136</td>\n",
       "      <td>59</td>\n",
       "      <td>394</td>\n",
       "      <td>3</td>\n",
       "      <td>0.0</td>\n",
       "      <td>1.0</td>\n",
       "      <td>0.0</td>\n",
       "      <td>1.0</td>\n",
       "      <td>0.0</td>\n",
       "    </tr>\n",
       "    <tr>\n",
       "      <th>1</th>\n",
       "      <td>60</td>\n",
       "      <td>12.635397</td>\n",
       "      <td>19.151412</td>\n",
       "      <td>36.618910</td>\n",
       "      <td>3.428995</td>\n",
       "      <td>0.561056</td>\n",
       "      <td>0.091367</td>\n",
       "      <td>0.566671</td>\n",
       "      <td>155</td>\n",
       "      <td>39</td>\n",
       "      <td>479</td>\n",
       "      <td>1</td>\n",
       "      <td>0.0</td>\n",
       "      <td>1.0</td>\n",
       "      <td>0.0</td>\n",
       "      <td>1.0</td>\n",
       "      <td>0.0</td>\n",
       "    </tr>\n",
       "    <tr>\n",
       "      <th>2</th>\n",
       "      <td>81</td>\n",
       "      <td>3.660028</td>\n",
       "      <td>6.226098</td>\n",
       "      <td>36.176898</td>\n",
       "      <td>2.819286</td>\n",
       "      <td>0.417951</td>\n",
       "      <td>0.227355</td>\n",
       "      <td>1.422475</td>\n",
       "      <td>55</td>\n",
       "      <td>30</td>\n",
       "      <td>832</td>\n",
       "      <td>3</td>\n",
       "      <td>0.0</td>\n",
       "      <td>0.0</td>\n",
       "      <td>1.0</td>\n",
       "      <td>0.0</td>\n",
       "      <td>1.0</td>\n",
       "    </tr>\n",
       "    <tr>\n",
       "      <th>3</th>\n",
       "      <td>119</td>\n",
       "      <td>0.563070</td>\n",
       "      <td>4.542968</td>\n",
       "      <td>37.205293</td>\n",
       "      <td>2.192961</td>\n",
       "      <td>0.140186</td>\n",
       "      <td>0.502965</td>\n",
       "      <td>1.669045</td>\n",
       "      <td>39</td>\n",
       "      <td>40</td>\n",
       "      <td>602</td>\n",
       "      <td>3</td>\n",
       "      <td>1.0</td>\n",
       "      <td>0.0</td>\n",
       "      <td>0.0</td>\n",
       "      <td>0.0</td>\n",
       "      <td>1.0</td>\n",
       "    </tr>\n",
       "    <tr>\n",
       "      <th>4</th>\n",
       "      <td>118</td>\n",
       "      <td>0.477378</td>\n",
       "      <td>0.996209</td>\n",
       "      <td>37.248118</td>\n",
       "      <td>2.450139</td>\n",
       "      <td>0.064471</td>\n",
       "      <td>0.695604</td>\n",
       "      <td>1.854076</td>\n",
       "      <td>10</td>\n",
       "      <td>42</td>\n",
       "      <td>908</td>\n",
       "      <td>3</td>\n",
       "      <td>1.0</td>\n",
       "      <td>0.0</td>\n",
       "      <td>0.0</td>\n",
       "      <td>0.0</td>\n",
       "      <td>1.0</td>\n",
       "    </tr>\n",
       "    <tr>\n",
       "      <th>...</th>\n",
       "      <td>...</td>\n",
       "      <td>...</td>\n",
       "      <td>...</td>\n",
       "      <td>...</td>\n",
       "      <td>...</td>\n",
       "      <td>...</td>\n",
       "      <td>...</td>\n",
       "      <td>...</td>\n",
       "      <td>...</td>\n",
       "      <td>...</td>\n",
       "      <td>...</td>\n",
       "      <td>...</td>\n",
       "      <td>...</td>\n",
       "      <td>...</td>\n",
       "      <td>...</td>\n",
       "      <td>...</td>\n",
       "      <td>...</td>\n",
       "    </tr>\n",
       "    <tr>\n",
       "      <th>995</th>\n",
       "      <td>98</td>\n",
       "      <td>3.897648</td>\n",
       "      <td>7.681519</td>\n",
       "      <td>36.274526</td>\n",
       "      <td>2.624275</td>\n",
       "      <td>0.404309</td>\n",
       "      <td>0.204719</td>\n",
       "      <td>1.215872</td>\n",
       "      <td>65</td>\n",
       "      <td>50</td>\n",
       "      <td>913</td>\n",
       "      <td>2</td>\n",
       "      <td>0.0</td>\n",
       "      <td>0.0</td>\n",
       "      <td>1.0</td>\n",
       "      <td>1.0</td>\n",
       "      <td>0.0</td>\n",
       "    </tr>\n",
       "    <tr>\n",
       "      <th>996</th>\n",
       "      <td>109</td>\n",
       "      <td>0.439062</td>\n",
       "      <td>0.352790</td>\n",
       "      <td>37.173929</td>\n",
       "      <td>2.489483</td>\n",
       "      <td>0.070776</td>\n",
       "      <td>0.638161</td>\n",
       "      <td>1.826544</td>\n",
       "      <td>23</td>\n",
       "      <td>43</td>\n",
       "      <td>642</td>\n",
       "      <td>2</td>\n",
       "      <td>1.0</td>\n",
       "      <td>0.0</td>\n",
       "      <td>0.0</td>\n",
       "      <td>1.0</td>\n",
       "      <td>0.0</td>\n",
       "    </tr>\n",
       "    <tr>\n",
       "      <th>997</th>\n",
       "      <td>108</td>\n",
       "      <td>1.077287</td>\n",
       "      <td>1.836462</td>\n",
       "      <td>37.073454</td>\n",
       "      <td>2.370298</td>\n",
       "      <td>0.011001</td>\n",
       "      <td>0.595518</td>\n",
       "      <td>1.781096</td>\n",
       "      <td>8</td>\n",
       "      <td>43</td>\n",
       "      <td>620</td>\n",
       "      <td>2</td>\n",
       "      <td>1.0</td>\n",
       "      <td>0.0</td>\n",
       "      <td>0.0</td>\n",
       "      <td>1.0</td>\n",
       "      <td>0.0</td>\n",
       "    </tr>\n",
       "    <tr>\n",
       "      <th>998</th>\n",
       "      <td>76</td>\n",
       "      <td>14.260010</td>\n",
       "      <td>19.309704</td>\n",
       "      <td>36.708047</td>\n",
       "      <td>3.393744</td>\n",
       "      <td>0.653693</td>\n",
       "      <td>0.171151</td>\n",
       "      <td>0.783958</td>\n",
       "      <td>110</td>\n",
       "      <td>38</td>\n",
       "      <td>779</td>\n",
       "      <td>1</td>\n",
       "      <td>0.0</td>\n",
       "      <td>1.0</td>\n",
       "      <td>0.0</td>\n",
       "      <td>1.0</td>\n",
       "      <td>0.0</td>\n",
       "    </tr>\n",
       "    <tr>\n",
       "      <th>999</th>\n",
       "      <td>85</td>\n",
       "      <td>4.676070</td>\n",
       "      <td>8.612581</td>\n",
       "      <td>36.053343</td>\n",
       "      <td>2.527295</td>\n",
       "      <td>0.460965</td>\n",
       "      <td>0.361972</td>\n",
       "      <td>1.060261</td>\n",
       "      <td>73</td>\n",
       "      <td>57</td>\n",
       "      <td>797</td>\n",
       "      <td>3</td>\n",
       "      <td>0.0</td>\n",
       "      <td>0.0</td>\n",
       "      <td>1.0</td>\n",
       "      <td>1.0</td>\n",
       "      <td>0.0</td>\n",
       "    </tr>\n",
       "  </tbody>\n",
       "</table>\n",
       "<p>1000 rows × 17 columns</p>\n",
       "</div>"
      ],
      "text/plain": [
       "     HeartRate  SkinConductance        EEG  Temperature  PupilDiameter  \\\n",
       "0           61         8.937204  11.794946    36.501723       3.330181   \n",
       "1           60        12.635397  19.151412    36.618910       3.428995   \n",
       "2           81         3.660028   6.226098    36.176898       2.819286   \n",
       "3          119         0.563070   4.542968    37.205293       2.192961   \n",
       "4          118         0.477378   0.996209    37.248118       2.450139   \n",
       "..         ...              ...        ...          ...            ...   \n",
       "995         98         3.897648   7.681519    36.274526       2.624275   \n",
       "996        109         0.439062   0.352790    37.173929       2.489483   \n",
       "997        108         1.077287   1.836462    37.073454       2.370298   \n",
       "998         76        14.260010  19.309704    36.708047       3.393744   \n",
       "999         85         4.676070   8.612581    36.053343       2.527295   \n",
       "\n",
       "     SmileIntensity  FrownIntensity  CortisolLevel  ActivityLevel  \\\n",
       "0          0.689238        0.189024       0.603035            136   \n",
       "1          0.561056        0.091367       0.566671            155   \n",
       "2          0.417951        0.227355       1.422475             55   \n",
       "3          0.140186        0.502965       1.669045             39   \n",
       "4          0.064471        0.695604       1.854076             10   \n",
       "..              ...             ...            ...            ...   \n",
       "995        0.404309        0.204719       1.215872             65   \n",
       "996        0.070776        0.638161       1.826544             23   \n",
       "997        0.011001        0.595518       1.781096              8   \n",
       "998        0.653693        0.171151       0.783958            110   \n",
       "999        0.460965        0.361972       1.060261             73   \n",
       "\n",
       "     AmbientNoiseLevel  LightingLevel  EngagementLevel  \\\n",
       "0                   59            394                3   \n",
       "1                   39            479                1   \n",
       "2                   30            832                3   \n",
       "3                   40            602                3   \n",
       "4                   42            908                3   \n",
       "..                 ...            ...              ...   \n",
       "995                 50            913                2   \n",
       "996                 43            642                2   \n",
       "997                 43            620                2   \n",
       "998                 38            779                1   \n",
       "999                 57            797                3   \n",
       "\n",
       "     EmotionalState_disengaged  EmotionalState_engaged  \\\n",
       "0                          0.0                     1.0   \n",
       "1                          0.0                     1.0   \n",
       "2                          0.0                     0.0   \n",
       "3                          1.0                     0.0   \n",
       "4                          1.0                     0.0   \n",
       "..                         ...                     ...   \n",
       "995                        0.0                     0.0   \n",
       "996                        1.0                     0.0   \n",
       "997                        1.0                     0.0   \n",
       "998                        0.0                     1.0   \n",
       "999                        0.0                     0.0   \n",
       "\n",
       "     EmotionalState_partially engaged  CognitiveState_distracted  \\\n",
       "0                                 0.0                        1.0   \n",
       "1                                 0.0                        1.0   \n",
       "2                                 1.0                        0.0   \n",
       "3                                 0.0                        0.0   \n",
       "4                                 0.0                        0.0   \n",
       "..                                ...                        ...   \n",
       "995                               1.0                        1.0   \n",
       "996                               0.0                        1.0   \n",
       "997                               0.0                        1.0   \n",
       "998                               0.0                        1.0   \n",
       "999                               1.0                        1.0   \n",
       "\n",
       "     CognitiveState_focused  \n",
       "0                       0.0  \n",
       "1                       0.0  \n",
       "2                       1.0  \n",
       "3                       1.0  \n",
       "4                       1.0  \n",
       "..                      ...  \n",
       "995                     0.0  \n",
       "996                     0.0  \n",
       "997                     0.0  \n",
       "998                     0.0  \n",
       "999                     0.0  \n",
       "\n",
       "[1000 rows x 17 columns]"
      ]
     },
     "execution_count": 6,
     "metadata": {},
     "output_type": "execute_result"
    }
   ],
   "source": [
    "# Do one-hot encoding on the categorical columns which are \"EmotionalState\" and \"CognitiveState\"\n",
    "from sklearn.preprocessing import OneHotEncoder\n",
    "\n",
    "categorical_columns = data.select_dtypes(include = ['object']).columns\n",
    "encoder = OneHotEncoder(sparse_output=False)\n",
    "one_hot_encoded = encoder.fit_transform(data[categorical_columns])\n",
    "data_encoded = pd.DataFrame(one_hot_encoded, columns=encoder.get_feature_names_out(categorical_columns))\n",
    "data= pd.concat([data.drop(categorical_columns, axis=1), data_encoded], axis=1)\n",
    "data"
   ]
  },
  {
   "cell_type": "markdown",
   "metadata": {},
   "source": [
    "Checking whether the dataset is balanced or not"
   ]
  },
  {
   "cell_type": "code",
   "execution_count": 7,
   "metadata": {},
   "outputs": [
    {
     "name": "stdout",
     "output_type": "stream",
     "text": [
      "EmotionalState_disengaged\n",
      "0.0    679\n",
      "1.0    321\n",
      "Name: count, dtype: int64\n"
     ]
    }
   ],
   "source": [
    "class_counts = data['EmotionalState_disengaged'].value_counts()\n",
    "print(class_counts)"
   ]
  },
  {
   "cell_type": "code",
   "execution_count": 9,
   "metadata": {},
   "outputs": [
    {
     "name": "stdout",
     "output_type": "stream",
     "text": [
      "EmotionalState_engaged\n",
      "0.0    668\n",
      "1.0    332\n",
      "Name: count, dtype: int64\n"
     ]
    }
   ],
   "source": [
    "class_counts = data['EmotionalState_engaged'].value_counts()\n",
    "print(class_counts)"
   ]
  },
  {
   "cell_type": "code",
   "execution_count": 10,
   "metadata": {},
   "outputs": [
    {
     "name": "stdout",
     "output_type": "stream",
     "text": [
      "EmotionalState_partially engaged\n",
      "0.0    653\n",
      "1.0    347\n",
      "Name: count, dtype: int64\n"
     ]
    }
   ],
   "source": [
    "\n",
    "class_counts = data['EmotionalState_partially engaged'].value_counts()\n",
    "print(class_counts)"
   ]
  },
  {
   "cell_type": "markdown",
   "metadata": {},
   "source": [
    "Correlation matrix"
   ]
  },
  {
   "cell_type": "code",
   "execution_count": 11,
   "metadata": {},
   "outputs": [
    {
     "data": {
      "application/vnd.plotly.v1+json": {
       "config": {
        "plotlyServerURL": "https://plot.ly"
       },
       "data": [
        {
         "coloraxis": "coloraxis",
         "hovertemplate": "x: %{x}<br>y: %{y}<br>color: %{z}<extra></extra>",
         "name": "0",
         "texttemplate": "%{z}",
         "type": "heatmap",
         "x": [
          "HeartRate",
          "SkinConductance",
          "EEG",
          "Temperature",
          "PupilDiameter",
          "SmileIntensity",
          "FrownIntensity",
          "CortisolLevel",
          "ActivityLevel",
          "AmbientNoiseLevel",
          "LightingLevel",
          "EngagementLevel",
          "EmotionalState_disengaged",
          "EmotionalState_engaged",
          "EmotionalState_partially engaged",
          "CognitiveState_distracted",
          "CognitiveState_focused"
         ],
         "xaxis": "x",
         "y": [
          "HeartRate",
          "SkinConductance",
          "EEG",
          "Temperature",
          "PupilDiameter",
          "SmileIntensity",
          "FrownIntensity",
          "CortisolLevel",
          "ActivityLevel",
          "AmbientNoiseLevel",
          "LightingLevel",
          "EngagementLevel",
          "EmotionalState_disengaged",
          "EmotionalState_engaged",
          "EmotionalState_partially engaged",
          "CognitiveState_distracted",
          "CognitiveState_focused"
         ],
         "yaxis": "y",
         "z": [
          [
           1,
           -0.8138187823128419,
           -0.8633430071758723,
           0.45158640245101594,
           -0.8656478728597142,
           -0.8880548719759661,
           0.8869607934379783,
           0.8918240207706464,
           -0.8670751342224281,
           0.011852983185516473,
           -0.0016637459140955294,
           0.0373964193017189,
           0.8152868799290324,
           -0.8060943307402921,
           -0.002123198138828976,
           -0.013983532460740373,
           0.013983532460740368
          ],
          [
           -0.8138187823128419,
           1,
           0.8444124873739831,
           -0.1984230878721561,
           0.8272159955461423,
           0.8334402725472987,
           -0.7865244233785823,
           -0.8341926225693002,
           0.8297334362025703,
           -0.03769433523483052,
           -0.010089672876905846,
           -0.23009608063095247,
           -0.6275389509984055,
           0.8780926632437166,
           -0.2532431245952002,
           -0.016113298663538368,
           0.01611329866353839
          ],
          [
           -0.8633430071758723,
           0.8444124873739831,
           1,
           -0.3192069678579224,
           0.8738579737322049,
           0.880788623878207,
           -0.8458772633626582,
           -0.8746793093753815,
           0.8706594467710954,
           -0.020488845386115714,
           0.006047325895954927,
           -0.1783282469453143,
           -0.7252262636687514,
           0.864821068447752,
           -0.14430475247099564,
           0.009702220541454467,
           -0.009702220541454455
          ],
          [
           0.45158640245101594,
           -0.1984230878721561,
           -0.3192069678579224,
           1,
           -0.3332446588077059,
           -0.3863425149815652,
           0.5661849376967596,
           0.42175806030250845,
           -0.33227698257127364,
           -0.024071161961922823,
           0.0029299197244675563,
           0.03911407172811817,
           0.8165649239219585,
           0.016777122740855556,
           -0.8174582669015831,
           -0.026028674972653473,
           0.026028674972653484
          ],
          [
           -0.8656478728597142,
           0.8272159955461423,
           0.8738579737322049,
           -0.3332446588077059,
           1,
           0.8809226785083643,
           -0.8549491674902905,
           -0.8762442154634763,
           0.8614396986043574,
           -0.006726191640907242,
           0.00335220176480117,
           -0.05975078279937593,
           -0.7357271171964451,
           0.8540889791547892,
           -0.12338840643817452,
           -0.01024406711958122,
           0.010244067119581222
          ],
          [
           -0.8880548719759661,
           0.8334402725472987,
           0.880788623878207,
           -0.3863425149815652,
           0.8809226785083643,
           1,
           -0.8783287586828418,
           -0.8950580414279686,
           0.873936025602172,
           -0.0014026422059054253,
           0.0005350867810867818,
           -0.06489156885659023,
           -0.7801688816001251,
           0.8429809866327111,
           -0.06881202952873267,
           0.010567543870919264,
           -0.010567543870919266
          ],
          [
           0.8869607934379783,
           -0.7865244233785823,
           -0.8458772633626582,
           0.5661849376967596,
           -0.8549491674902905,
           -0.8783287586828418,
           1,
           0.8874969845883934,
           -0.8482652364460158,
           0.016839466874550204,
           0.003770561528369767,
           0.06638746744060178,
           0.8937468551430581,
           -0.7328335553975279,
           -0.15155240296662764,
           -0.007282561064849832,
           0.007282561064849838
          ],
          [
           0.8918240207706464,
           -0.8341926225693002,
           -0.8746793093753815,
           0.42175806030250845,
           -0.8762442154634763,
           -0.8950580414279686,
           0.8874969845883934,
           1,
           -0.8722639267233425,
           0.012014323800184237,
           -0.002602154522304045,
           0.06968865123695149,
           0.8052166286522879,
           -0.820680086303942,
           0.022183328899661656,
           -0.01843440835732903,
           0.018434408357329048
          ],
          [
           -0.8670751342224281,
           0.8297334362025703,
           0.8706594467710954,
           -0.33227698257127364,
           0.8614396986043574,
           0.873936025602172,
           -0.8482652364460158,
           -0.8722639267233425,
           1,
           -0.002290499914264569,
           -0.00017288220326655194,
           -0.0677886967101589,
           -0.7360818116603092,
           0.8497005852120668,
           -0.11869901616765613,
           -0.0013281236581448358,
           0.0013281236581448293
          ],
          [
           0.011852983185516473,
           -0.03769433523483052,
           -0.020488845386115714,
           -0.024071161961922823,
           -0.006726191640907242,
           -0.0014026422059054253,
           0.016839466874550204,
           0.012014323800184237,
           -0.002290499914264569,
           1,
           0.020632962236130557,
           0.02944910437642122,
           0.0015357949476169834,
           -0.020876791875401004,
           0.019147529807713684,
           0.016204418532316012,
           -0.016204418532316026
          ],
          [
           -0.0016637459140955294,
           -0.010089672876905846,
           0.006047325895954927,
           0.0029299197244675563,
           0.00335220176480117,
           0.0005350867810867818,
           0.003770561528369767,
           -0.002602154522304045,
           -0.00017288220326655194,
           0.020632962236130557,
           1,
           0.051322814399024204,
           -0.004833469622952866,
           -0.00550255532648275,
           0.010184287478573584,
           -0.023886981818963336,
           0.023886981818963298
          ],
          [
           0.0373964193017189,
           -0.23009608063095247,
           -0.1783282469453143,
           0.03911407172811817,
           -0.05975078279937593,
           -0.06489156885659023,
           0.06638746744060178,
           0.06968865123695149,
           -0.0677886967101589,
           0.02944910437642122,
           0.051322814399024204,
           1,
           0.052345659085399295,
           -0.07021112904890606,
           0.01812221694807349,
           -0.022542841052828024,
           0.022542841052828045
          ],
          [
           0.8152868799290324,
           -0.6275389509984055,
           -0.7252262636687514,
           0.8165649239219585,
           -0.7357271171964451,
           -0.7801688816001251,
           0.8937468551430581,
           0.8052166286522879,
           -0.7360818116603092,
           0.0015357949476169834,
           -0.004833469622952866,
           0.052345659085399295,
           1,
           -0.4847283710999105,
           -0.5012169804830858,
           -0.014965840498648247,
           0.014965840498648304
          ],
          [
           -0.8060943307402921,
           0.8780926632437166,
           0.864821068447752,
           0.016777122740855556,
           0.8540889791547892,
           0.8429809866327111,
           -0.7328335553975279,
           -0.820680086303942,
           0.8497005852120668,
           -0.020876791875401004,
           -0.00550255532648275,
           -0.07021112904890606,
           -0.4847283710999105,
           1,
           -0.5139122350815155,
           -0.014019804878464506,
           0.01401980487846453
          ],
          [
           -0.002123198138828976,
           -0.2532431245952002,
           -0.14430475247099564,
           -0.8174582669015831,
           -0.12338840643817452,
           -0.06881202952873267,
           -0.15155240296662764,
           0.022183328899661656,
           -0.11869901616765613,
           0.019147529807713684,
           0.010184287478573584,
           0.01812221694807349,
           -0.5012169804830858,
           -0.5139122350815155,
           1,
           0.02854805669888226,
           -0.02854805669888228
          ],
          [
           -0.013983532460740373,
           -0.016113298663538368,
           0.009702220541454467,
           -0.026028674972653473,
           -0.01024406711958122,
           0.010567543870919264,
           -0.007282561064849832,
           -0.01843440835732903,
           -0.0013281236581448358,
           0.016204418532316012,
           -0.023886981818963336,
           -0.022542841052828024,
           -0.014965840498648247,
           -0.014019804878464506,
           0.02854805669888226,
           1,
           -0.9999999999999999
          ],
          [
           0.013983532460740368,
           0.01611329866353839,
           -0.009702220541454455,
           0.026028674972653484,
           0.010244067119581222,
           -0.010567543870919266,
           0.007282561064849838,
           0.018434408357329048,
           0.0013281236581448293,
           -0.016204418532316026,
           0.023886981818963298,
           0.022542841052828045,
           0.014965840498648304,
           0.01401980487846453,
           -0.02854805669888228,
           -0.9999999999999999,
           1
          ]
         ]
        }
       ],
       "layout": {
        "coloraxis": {
         "colorbar": {
          "len": 0.7,
          "thickness": 15,
          "title": {
           "text": "Correlation"
          },
          "x": 1.05,
          "y": 0.5
         },
         "colorscale": [
          [
           0,
           "#440154"
          ],
          [
           0.1111111111111111,
           "#482878"
          ],
          [
           0.2222222222222222,
           "#3e4989"
          ],
          [
           0.3333333333333333,
           "#31688e"
          ],
          [
           0.4444444444444444,
           "#26828e"
          ],
          [
           0.5555555555555556,
           "#1f9e89"
          ],
          [
           0.6666666666666666,
           "#35b779"
          ],
          [
           0.7777777777777778,
           "#6ece58"
          ],
          [
           0.8888888888888888,
           "#b5de2b"
          ],
          [
           1,
           "#fde725"
          ]
         ]
        },
        "height": 800,
        "margin": {
         "b": 20,
         "l": 20,
         "r": 20,
         "t": 50
        },
        "template": {
         "data": {
          "bar": [
           {
            "error_x": {
             "color": "#2a3f5f"
            },
            "error_y": {
             "color": "#2a3f5f"
            },
            "marker": {
             "line": {
              "color": "#E5ECF6",
              "width": 0.5
             },
             "pattern": {
              "fillmode": "overlay",
              "size": 10,
              "solidity": 0.2
             }
            },
            "type": "bar"
           }
          ],
          "barpolar": [
           {
            "marker": {
             "line": {
              "color": "#E5ECF6",
              "width": 0.5
             },
             "pattern": {
              "fillmode": "overlay",
              "size": 10,
              "solidity": 0.2
             }
            },
            "type": "barpolar"
           }
          ],
          "carpet": [
           {
            "aaxis": {
             "endlinecolor": "#2a3f5f",
             "gridcolor": "white",
             "linecolor": "white",
             "minorgridcolor": "white",
             "startlinecolor": "#2a3f5f"
            },
            "baxis": {
             "endlinecolor": "#2a3f5f",
             "gridcolor": "white",
             "linecolor": "white",
             "minorgridcolor": "white",
             "startlinecolor": "#2a3f5f"
            },
            "type": "carpet"
           }
          ],
          "choropleth": [
           {
            "colorbar": {
             "outlinewidth": 0,
             "ticks": ""
            },
            "type": "choropleth"
           }
          ],
          "contour": [
           {
            "colorbar": {
             "outlinewidth": 0,
             "ticks": ""
            },
            "colorscale": [
             [
              0,
              "#0d0887"
             ],
             [
              0.1111111111111111,
              "#46039f"
             ],
             [
              0.2222222222222222,
              "#7201a8"
             ],
             [
              0.3333333333333333,
              "#9c179e"
             ],
             [
              0.4444444444444444,
              "#bd3786"
             ],
             [
              0.5555555555555556,
              "#d8576b"
             ],
             [
              0.6666666666666666,
              "#ed7953"
             ],
             [
              0.7777777777777778,
              "#fb9f3a"
             ],
             [
              0.8888888888888888,
              "#fdca26"
             ],
             [
              1,
              "#f0f921"
             ]
            ],
            "type": "contour"
           }
          ],
          "contourcarpet": [
           {
            "colorbar": {
             "outlinewidth": 0,
             "ticks": ""
            },
            "type": "contourcarpet"
           }
          ],
          "heatmap": [
           {
            "colorbar": {
             "outlinewidth": 0,
             "ticks": ""
            },
            "colorscale": [
             [
              0,
              "#0d0887"
             ],
             [
              0.1111111111111111,
              "#46039f"
             ],
             [
              0.2222222222222222,
              "#7201a8"
             ],
             [
              0.3333333333333333,
              "#9c179e"
             ],
             [
              0.4444444444444444,
              "#bd3786"
             ],
             [
              0.5555555555555556,
              "#d8576b"
             ],
             [
              0.6666666666666666,
              "#ed7953"
             ],
             [
              0.7777777777777778,
              "#fb9f3a"
             ],
             [
              0.8888888888888888,
              "#fdca26"
             ],
             [
              1,
              "#f0f921"
             ]
            ],
            "type": "heatmap"
           }
          ],
          "heatmapgl": [
           {
            "colorbar": {
             "outlinewidth": 0,
             "ticks": ""
            },
            "colorscale": [
             [
              0,
              "#0d0887"
             ],
             [
              0.1111111111111111,
              "#46039f"
             ],
             [
              0.2222222222222222,
              "#7201a8"
             ],
             [
              0.3333333333333333,
              "#9c179e"
             ],
             [
              0.4444444444444444,
              "#bd3786"
             ],
             [
              0.5555555555555556,
              "#d8576b"
             ],
             [
              0.6666666666666666,
              "#ed7953"
             ],
             [
              0.7777777777777778,
              "#fb9f3a"
             ],
             [
              0.8888888888888888,
              "#fdca26"
             ],
             [
              1,
              "#f0f921"
             ]
            ],
            "type": "heatmapgl"
           }
          ],
          "histogram": [
           {
            "marker": {
             "pattern": {
              "fillmode": "overlay",
              "size": 10,
              "solidity": 0.2
             }
            },
            "type": "histogram"
           }
          ],
          "histogram2d": [
           {
            "colorbar": {
             "outlinewidth": 0,
             "ticks": ""
            },
            "colorscale": [
             [
              0,
              "#0d0887"
             ],
             [
              0.1111111111111111,
              "#46039f"
             ],
             [
              0.2222222222222222,
              "#7201a8"
             ],
             [
              0.3333333333333333,
              "#9c179e"
             ],
             [
              0.4444444444444444,
              "#bd3786"
             ],
             [
              0.5555555555555556,
              "#d8576b"
             ],
             [
              0.6666666666666666,
              "#ed7953"
             ],
             [
              0.7777777777777778,
              "#fb9f3a"
             ],
             [
              0.8888888888888888,
              "#fdca26"
             ],
             [
              1,
              "#f0f921"
             ]
            ],
            "type": "histogram2d"
           }
          ],
          "histogram2dcontour": [
           {
            "colorbar": {
             "outlinewidth": 0,
             "ticks": ""
            },
            "colorscale": [
             [
              0,
              "#0d0887"
             ],
             [
              0.1111111111111111,
              "#46039f"
             ],
             [
              0.2222222222222222,
              "#7201a8"
             ],
             [
              0.3333333333333333,
              "#9c179e"
             ],
             [
              0.4444444444444444,
              "#bd3786"
             ],
             [
              0.5555555555555556,
              "#d8576b"
             ],
             [
              0.6666666666666666,
              "#ed7953"
             ],
             [
              0.7777777777777778,
              "#fb9f3a"
             ],
             [
              0.8888888888888888,
              "#fdca26"
             ],
             [
              1,
              "#f0f921"
             ]
            ],
            "type": "histogram2dcontour"
           }
          ],
          "mesh3d": [
           {
            "colorbar": {
             "outlinewidth": 0,
             "ticks": ""
            },
            "type": "mesh3d"
           }
          ],
          "parcoords": [
           {
            "line": {
             "colorbar": {
              "outlinewidth": 0,
              "ticks": ""
             }
            },
            "type": "parcoords"
           }
          ],
          "pie": [
           {
            "automargin": true,
            "type": "pie"
           }
          ],
          "scatter": [
           {
            "fillpattern": {
             "fillmode": "overlay",
             "size": 10,
             "solidity": 0.2
            },
            "type": "scatter"
           }
          ],
          "scatter3d": [
           {
            "line": {
             "colorbar": {
              "outlinewidth": 0,
              "ticks": ""
             }
            },
            "marker": {
             "colorbar": {
              "outlinewidth": 0,
              "ticks": ""
             }
            },
            "type": "scatter3d"
           }
          ],
          "scattercarpet": [
           {
            "marker": {
             "colorbar": {
              "outlinewidth": 0,
              "ticks": ""
             }
            },
            "type": "scattercarpet"
           }
          ],
          "scattergeo": [
           {
            "marker": {
             "colorbar": {
              "outlinewidth": 0,
              "ticks": ""
             }
            },
            "type": "scattergeo"
           }
          ],
          "scattergl": [
           {
            "marker": {
             "colorbar": {
              "outlinewidth": 0,
              "ticks": ""
             }
            },
            "type": "scattergl"
           }
          ],
          "scattermapbox": [
           {
            "marker": {
             "colorbar": {
              "outlinewidth": 0,
              "ticks": ""
             }
            },
            "type": "scattermapbox"
           }
          ],
          "scatterpolar": [
           {
            "marker": {
             "colorbar": {
              "outlinewidth": 0,
              "ticks": ""
             }
            },
            "type": "scatterpolar"
           }
          ],
          "scatterpolargl": [
           {
            "marker": {
             "colorbar": {
              "outlinewidth": 0,
              "ticks": ""
             }
            },
            "type": "scatterpolargl"
           }
          ],
          "scatterternary": [
           {
            "marker": {
             "colorbar": {
              "outlinewidth": 0,
              "ticks": ""
             }
            },
            "type": "scatterternary"
           }
          ],
          "surface": [
           {
            "colorbar": {
             "outlinewidth": 0,
             "ticks": ""
            },
            "colorscale": [
             [
              0,
              "#0d0887"
             ],
             [
              0.1111111111111111,
              "#46039f"
             ],
             [
              0.2222222222222222,
              "#7201a8"
             ],
             [
              0.3333333333333333,
              "#9c179e"
             ],
             [
              0.4444444444444444,
              "#bd3786"
             ],
             [
              0.5555555555555556,
              "#d8576b"
             ],
             [
              0.6666666666666666,
              "#ed7953"
             ],
             [
              0.7777777777777778,
              "#fb9f3a"
             ],
             [
              0.8888888888888888,
              "#fdca26"
             ],
             [
              1,
              "#f0f921"
             ]
            ],
            "type": "surface"
           }
          ],
          "table": [
           {
            "cells": {
             "fill": {
              "color": "#EBF0F8"
             },
             "line": {
              "color": "white"
             }
            },
            "header": {
             "fill": {
              "color": "#C8D4E3"
             },
             "line": {
              "color": "white"
             }
            },
            "type": "table"
           }
          ]
         },
         "layout": {
          "annotationdefaults": {
           "arrowcolor": "#2a3f5f",
           "arrowhead": 0,
           "arrowwidth": 1
          },
          "autotypenumbers": "strict",
          "coloraxis": {
           "colorbar": {
            "outlinewidth": 0,
            "ticks": ""
           }
          },
          "colorscale": {
           "diverging": [
            [
             0,
             "#8e0152"
            ],
            [
             0.1,
             "#c51b7d"
            ],
            [
             0.2,
             "#de77ae"
            ],
            [
             0.3,
             "#f1b6da"
            ],
            [
             0.4,
             "#fde0ef"
            ],
            [
             0.5,
             "#f7f7f7"
            ],
            [
             0.6,
             "#e6f5d0"
            ],
            [
             0.7,
             "#b8e186"
            ],
            [
             0.8,
             "#7fbc41"
            ],
            [
             0.9,
             "#4d9221"
            ],
            [
             1,
             "#276419"
            ]
           ],
           "sequential": [
            [
             0,
             "#0d0887"
            ],
            [
             0.1111111111111111,
             "#46039f"
            ],
            [
             0.2222222222222222,
             "#7201a8"
            ],
            [
             0.3333333333333333,
             "#9c179e"
            ],
            [
             0.4444444444444444,
             "#bd3786"
            ],
            [
             0.5555555555555556,
             "#d8576b"
            ],
            [
             0.6666666666666666,
             "#ed7953"
            ],
            [
             0.7777777777777778,
             "#fb9f3a"
            ],
            [
             0.8888888888888888,
             "#fdca26"
            ],
            [
             1,
             "#f0f921"
            ]
           ],
           "sequentialminus": [
            [
             0,
             "#0d0887"
            ],
            [
             0.1111111111111111,
             "#46039f"
            ],
            [
             0.2222222222222222,
             "#7201a8"
            ],
            [
             0.3333333333333333,
             "#9c179e"
            ],
            [
             0.4444444444444444,
             "#bd3786"
            ],
            [
             0.5555555555555556,
             "#d8576b"
            ],
            [
             0.6666666666666666,
             "#ed7953"
            ],
            [
             0.7777777777777778,
             "#fb9f3a"
            ],
            [
             0.8888888888888888,
             "#fdca26"
            ],
            [
             1,
             "#f0f921"
            ]
           ]
          },
          "colorway": [
           "#636efa",
           "#EF553B",
           "#00cc96",
           "#ab63fa",
           "#FFA15A",
           "#19d3f3",
           "#FF6692",
           "#B6E880",
           "#FF97FF",
           "#FECB52"
          ],
          "font": {
           "color": "#2a3f5f"
          },
          "geo": {
           "bgcolor": "white",
           "lakecolor": "white",
           "landcolor": "#E5ECF6",
           "showlakes": true,
           "showland": true,
           "subunitcolor": "white"
          },
          "hoverlabel": {
           "align": "left"
          },
          "hovermode": "closest",
          "mapbox": {
           "style": "light"
          },
          "paper_bgcolor": "white",
          "plot_bgcolor": "#E5ECF6",
          "polar": {
           "angularaxis": {
            "gridcolor": "white",
            "linecolor": "white",
            "ticks": ""
           },
           "bgcolor": "#E5ECF6",
           "radialaxis": {
            "gridcolor": "white",
            "linecolor": "white",
            "ticks": ""
           }
          },
          "scene": {
           "xaxis": {
            "backgroundcolor": "#E5ECF6",
            "gridcolor": "white",
            "gridwidth": 2,
            "linecolor": "white",
            "showbackground": true,
            "ticks": "",
            "zerolinecolor": "white"
           },
           "yaxis": {
            "backgroundcolor": "#E5ECF6",
            "gridcolor": "white",
            "gridwidth": 2,
            "linecolor": "white",
            "showbackground": true,
            "ticks": "",
            "zerolinecolor": "white"
           },
           "zaxis": {
            "backgroundcolor": "#E5ECF6",
            "gridcolor": "white",
            "gridwidth": 2,
            "linecolor": "white",
            "showbackground": true,
            "ticks": "",
            "zerolinecolor": "white"
           }
          },
          "shapedefaults": {
           "line": {
            "color": "#2a3f5f"
           }
          },
          "ternary": {
           "aaxis": {
            "gridcolor": "white",
            "linecolor": "white",
            "ticks": ""
           },
           "baxis": {
            "gridcolor": "white",
            "linecolor": "white",
            "ticks": ""
           },
           "bgcolor": "#E5ECF6",
           "caxis": {
            "gridcolor": "white",
            "linecolor": "white",
            "ticks": ""
           }
          },
          "title": {
           "x": 0.05
          },
          "xaxis": {
           "automargin": true,
           "gridcolor": "white",
           "linecolor": "white",
           "ticks": "",
           "title": {
            "standoff": 15
           },
           "zerolinecolor": "white",
           "zerolinewidth": 2
          },
          "yaxis": {
           "automargin": true,
           "gridcolor": "white",
           "linecolor": "white",
           "ticks": "",
           "title": {
            "standoff": 15
           },
           "zerolinecolor": "white",
           "zerolinewidth": 2
          }
         }
        },
        "title": {
         "text": "Correlation Matrix Heatmap"
        },
        "width": 800,
        "xaxis": {
         "anchor": "y",
         "constrain": "domain",
         "domain": [
          0,
          1
         ],
         "scaleanchor": "y"
        },
        "yaxis": {
         "anchor": "x",
         "autorange": "reversed",
         "constrain": "domain",
         "domain": [
          0,
          1
         ]
        }
       }
      }
     },
     "metadata": {},
     "output_type": "display_data"
    }
   ],
   "source": [
    "import pandas as pd\n",
    "import plotly.express as px\n",
    "\n",
    "correlation_matrix = data.corr()\n",
    "\n",
    "\n",
    "fig = px.imshow(\n",
    "    correlation_matrix,\n",
    "    text_auto=True,\n",
    "    color_continuous_scale='Viridis',\n",
    "    title=\"Correlation Matrix Heatmap\"\n",
    ")\n",
    "\n",
    "fig.update_layout(\n",
    "    coloraxis_colorbar=dict(\n",
    "        title=\"Correlation\",  \n",
    "        thickness=15,  \n",
    "        len=0.7,  \n",
    "        x=1.05,  \n",
    "        y=0.5,  \n",
    "    ),\n",
    "    width=800,\n",
    "    height=800,\n",
    "    margin=dict(l=20, r=20, t=50, b=20),\n",
    ")\n",
    "\n",
    "fig.show()\n"
   ]
  },
  {
   "cell_type": "code",
   "execution_count": 12,
   "metadata": {},
   "outputs": [],
   "source": [
    "# Split the data with Engagement Level as the target variable\n",
    "from sklearn.model_selection import train_test_split\n",
    "\n",
    "X = data.drop('EngagementLevel', axis=1) \n",
    "y = data['EngagementLevel'] "
   ]
  },
  {
   "cell_type": "code",
   "execution_count": 13,
   "metadata": {},
   "outputs": [],
   "source": [
    "# train test split and validation split \n",
    "X_train, X_temp, y_train, y_temp = train_test_split(X, y, test_size=0.3, random_state=42)\n",
    "X_val, X_test, y_val, y_test = train_test_split(X_temp, y_temp, test_size=0.5, random_state=42)"
   ]
  },
  {
   "cell_type": "code",
   "execution_count": 14,
   "metadata": {},
   "outputs": [],
   "source": [
    "# scalling train,test,val dataset\n",
    "from sklearn.preprocessing import StandardScaler\n",
    "scaler = StandardScaler()\n",
    "\n",
    "X_train = scaler.fit_transform(X_train)\n",
    "X_val = scaler.transform(X_val)\n",
    "X_test = scaler.transform(X_test)"
   ]
  },
  {
   "cell_type": "markdown",
   "metadata": {},
   "source": [
    "## Training and Testing"
   ]
  },
  {
   "cell_type": "markdown",
   "metadata": {},
   "source": [
    "## Random Forest"
   ]
  },
  {
   "cell_type": "code",
   "execution_count": 16,
   "metadata": {},
   "outputs": [],
   "source": [
    "# randomforest model\n",
    "\n",
    "from sklearn.ensemble import RandomForestClassifier\n",
    "from sklearn.metrics import classification_report, confusion_matrix\n"
   ]
  },
  {
   "cell_type": "code",
   "execution_count": 17,
   "metadata": {},
   "outputs": [
    {
     "name": "stdout",
     "output_type": "stream",
     "text": [
      "Validation Set Performance:\n",
      "              precision    recall  f1-score   support\n",
      "\n",
      "           1       1.00      1.00      1.00         9\n",
      "           2       1.00      1.00      1.00        53\n",
      "           3       1.00      1.00      1.00        88\n",
      "\n",
      "    accuracy                           1.00       150\n",
      "   macro avg       1.00      1.00      1.00       150\n",
      "weighted avg       1.00      1.00      1.00       150\n",
      "\n"
     ]
    }
   ],
   "source": [
    "rf_model = RandomForestClassifier(random_state=42, class_weight='balanced')\n",
    "rf_model.fit(X_train, y_train)\n",
    "\n",
    "\n",
    "val_predictions = rf_model.predict(X_val)\n",
    "print(\"Validation Set Performance:\")\n",
    "print(classification_report(y_val, val_predictions))"
   ]
  },
  {
   "cell_type": "code",
   "execution_count": 18,
   "metadata": {},
   "outputs": [
    {
     "name": "stdout",
     "output_type": "stream",
     "text": [
      "Test Set Performance:\n",
      "              precision    recall  f1-score   support\n",
      "\n",
      "           1       1.00      0.96      0.98        25\n",
      "           2       1.00      1.00      1.00        42\n",
      "           3       0.99      1.00      0.99        83\n",
      "\n",
      "    accuracy                           0.99       150\n",
      "   macro avg       1.00      0.99      0.99       150\n",
      "weighted avg       0.99      0.99      0.99       150\n",
      "\n"
     ]
    }
   ],
   "source": [
    "test_predictions = rf_model.predict(X_test)\n",
    "print(\"Test Set Performance:\")\n",
    "print(classification_report(y_test, test_predictions))"
   ]
  },
  {
   "cell_type": "code",
   "execution_count": 19,
   "metadata": {},
   "outputs": [
    {
     "name": "stdout",
     "output_type": "stream",
     "text": [
      "Confusion Matrix (Test Set):\n",
      "[[24  0  1]\n",
      " [ 0 42  0]\n",
      " [ 0  0 83]]\n"
     ]
    }
   ],
   "source": [
    "cm = confusion_matrix(y_test, test_predictions)\n",
    "print(\"Confusion Matrix (Test Set):\")\n",
    "print(cm)"
   ]
  },
  {
   "cell_type": "markdown",
   "metadata": {},
   "source": [
    "## Decision Tree"
   ]
  },
  {
   "cell_type": "code",
   "execution_count": 21,
   "metadata": {},
   "outputs": [
    {
     "name": "stdout",
     "output_type": "stream",
     "text": [
      "Validation Set Performance:\n",
      "              precision    recall  f1-score   support\n",
      "\n",
      "           1       1.00      1.00      1.00         9\n",
      "           2       1.00      1.00      1.00        53\n",
      "           3       1.00      1.00      1.00        88\n",
      "\n",
      "    accuracy                           1.00       150\n",
      "   macro avg       1.00      1.00      1.00       150\n",
      "weighted avg       1.00      1.00      1.00       150\n",
      "\n"
     ]
    }
   ],
   "source": [
    "\n",
    "\n",
    "from sklearn.metrics import accuracy_score, classification_report\n",
    "from sklearn.tree import DecisionTreeClassifier\n",
    "\n",
    "dt = DecisionTreeClassifier(class_weight='balanced',random_state=42)\n",
    "dt.fit(X_train, y_train)\n",
    "val_predictions = dt.predict(X_val)\n",
    "print(\"Validation Set Performance:\")\n",
    "print(classification_report(y_val, val_predictions))\n"
   ]
  },
  {
   "cell_type": "code",
   "execution_count": 22,
   "metadata": {},
   "outputs": [
    {
     "name": "stdout",
     "output_type": "stream",
     "text": [
      "Decision Tree Model Accuracy: 99.33%\n",
      "\n",
      "              precision    recall  f1-score   support\n",
      "\n",
      "           1       1.00      0.96      0.98        25\n",
      "           2       1.00      1.00      1.00        42\n",
      "           3       0.99      1.00      0.99        83\n",
      "\n",
      "    accuracy                           0.99       150\n",
      "   macro avg       1.00      0.99      0.99       150\n",
      "weighted avg       0.99      0.99      0.99       150\n",
      "\n"
     ]
    }
   ],
   "source": [
    "dt_y_pred = dt.predict(X_test)\n",
    "\n",
    "dt_accuracy = accuracy_score(y_test, dt_y_pred)\n",
    "print(f\"Decision Tree Model Accuracy: {dt_accuracy*100:.2f}%\\n\")\n",
    "print(classification_report(y_test, dt_y_pred))"
   ]
  },
  {
   "cell_type": "markdown",
   "metadata": {},
   "source": [
    "## Which Model is Better?\n",
    "\n",
    "Both models performed very well, with their difference being minute. Although the Decision Tree had slightly lower metrics, we believe it is the better model. The RF model takes longer to make predictions because it takes a vote from all estimators, where as the DT model has just one estimator. We think the offered by the DT model outweighs the accuracy difference of the two."
   ]
  }
 ],
 "metadata": {
  "kernelspec": {
   "display_name": "my_environment_A5005da",
   "language": "python",
   "name": "python3"
  },
  "language_info": {
   "codemirror_mode": {
    "name": "ipython",
    "version": 3
   },
   "file_extension": ".py",
   "mimetype": "text/x-python",
   "name": "python",
   "nbconvert_exporter": "python",
   "pygments_lexer": "ipython3",
   "version": "3.12.4"
  }
 },
 "nbformat": 4,
 "nbformat_minor": 2
}
